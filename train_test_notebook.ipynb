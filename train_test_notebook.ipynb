{
 "cells": [
  {
   "cell_type": "code",
   "execution_count": 1,
   "metadata": {},
   "outputs": [],
   "source": [
    "import pandas as pd\n",
    "import numpy as np\n",
    "import os\n",
    "import seaborn as sns\n",
    "import json\n",
    "from glob import glob\n",
    "from sklearn.ensemble import RandomForestClassifier\n",
    "from sklearn.metrics import f1_score, recall_score, precision_score, confusion_matrix, roc_auc_score\n",
    "from lightgbm import LGBMClassifier, Booster\n",
    "import seaborn as sns\n",
    "import matplotlib.pyplot as plt\n",
    "import pickle\n",
    "import joblib\n",
    "\n"
   ]
  },
  {
   "cell_type": "markdown",
   "metadata": {},
   "source": [
    "Вспомогательный блок функций"
   ]
  },
  {
   "cell_type": "code",
   "execution_count": 2,
   "metadata": {},
   "outputs": [],
   "source": [
    "def get_correct_date_string(date):\n",
    "    return pd.to_datetime(date, utc=True, errors = 'coerce').dt.strftime('%Y-%m-%d')\n",
    "\n",
    "def time_diff_years(a, b):\n",
    "    return (pd.to_datetime(a, errors = 'coerce') - pd.to_datetime(b, errors = 'coerce')) / np.timedelta64(1, 'Y')\n",
    "\n",
    "def get_empty_list_nan(x):\n",
    "    if isinstance(x, list):\n",
    "        return x\n",
    "    else:\n",
    "        return []\n",
    "    \n",
    "try:\n",
    "    from sympy.mpmath import mp\n",
    "except ImportError:\n",
    "    from mpmath import mp\n",
    "\n",
    "def get_k_m_numbers_of_pi(k, m):\n",
    "    mp.dps = m + 1\n",
    "    return int(str(mp.pi)[k + 1:m + 1]) \n",
    "\n",
    "def get_correct_patient_id_df(df, patient_id_column=\"patient_id\", number=0):\n",
    "    df_new = df.copy()\n",
    "    df_new[patient_id_column] -= number\n",
    "    return df_new\n",
    "\n",
    "\n",
    "\n",
    "\n",
    "def random_dates(start, end, n=10):\n",
    "    start_u = pd.to_datetime(start).value//10**9\n",
    "    end_u = pd.to_datetime(end).value//10**9\n",
    "    return pd.to_datetime(np.random.randint(start_u, end_u, n), unit='s').strftime('%Y-%m-%d')\n",
    "\n",
    "def get_filtered_data(df, repeat=10, date_start=\"2019-01-01\", date_end=\"2020-01-01\"):\n",
    "    new_df = df.append([df] * repeat, ignore_index=True)\n",
    "    new_df[\"date\"] = random_dates(date_start, date_end, len(new_df))\n",
    "    new_df = new_df[(new_df[\"death_dt\"].isna()) | (new_df[\"death_dt\"] > new_df[\"date\"])]\n",
    "    return new_df.reset_index(drop=True)\n",
    "\n",
    "def get_filtered_data_1(df, repeat=10, date_start_1=\"2019-01-01\", date_end_1=\"2020-01-01\",\n",
    "                        date_start_2=\"2019-01-01\", date_end_2=\"2020-01-01\", frac=0.5):\n",
    "    new_df = df.append([df] * repeat, ignore_index=True).sample(frac=1).reset_index(drop=True)\n",
    "    new_df_1 = new_df[:int(len(new_df) * frac)]\n",
    "    new_df_1[\"date\"] = date_end_1\n",
    "    new_df_1 = new_df_1[(new_df_1[\"death_dt\"].isna()) | (new_df_1[\"death_dt\"] > new_df_1[\"date\"])]\n",
    "    new_df_2 = new_df[int(len(new_df) * frac):]\n",
    "    new_df_2[\"date\"] = date_end_2\n",
    "    new_df_2 = new_df_2[(new_df_2[\"death_dt\"].isna()) | (new_df_2[\"death_dt\"] > new_df_2[\"date\"])]\n",
    "    print(len(new_df_1), len(new_df_2), len(new_df))\n",
    "    return pd.concat([new_df_1, new_df_2]).reset_index(drop=True)\n",
    "\n",
    "def get_filtered_data_2(df, repeat=10, date_start_1=\"2019-01-01\", date_end_1=\"2020-01-01\",\n",
    "                        date_start_2=\"2019-01-01\", date_end_2=\"2020-01-01\", frac=0.5):\n",
    "    new_df = df.append([df] * repeat, ignore_index=True).sample(frac=1).reset_index(drop=True)\n",
    "    new_df_1 = new_df[:int(len(new_df) * frac)]\n",
    "    new_df_1[\"date\"] = random_dates(date_start_1, date_end_1, len(new_df_1))\n",
    "    new_df_1 = new_df_1[(new_df_1[\"death_dt\"].isna()) | (new_df_1[\"death_dt\"] > new_df_1[\"date\"])]\n",
    "    new_df_2 = new_df[int(len(new_df) * frac):]\n",
    "    new_df_2[\"date\"] = date_end_2\n",
    "    new_df_2 = new_df_2[(new_df_2[\"death_dt\"].isna()) | (new_df_2[\"death_dt\"] > new_df_2[\"date\"])]\n",
    "    print(len(new_df_1), len(new_df_2), len(new_df))\n",
    "    return pd.concat([new_df_1, new_df_2]).reset_index(drop=True)\n",
    "\n",
    "\n",
    "def get_group_date_feature(data, patient_id_column=\"patient_id\", date_column=\"date\",\n",
    "                           value_column=\"some\", group_column_name=\"loc\",\n",
    "                           filter_column=None, filter_value=None):\n",
    "    if not pd.isna(filter_column) and not pd.isna(filter_value):\n",
    "        data = data[data[filter_column] == filter_value]\n",
    "    data = data.copy()\n",
    "    data[group_column_name] = data.apply(lambda x: (x[date_column], x[value_column]), axis=1)\n",
    "    return data.groupby(patient_id_column)[group_column_name].agg(lambda x: sorted(list(x)))\n",
    "\n",
    "\n",
    "def get_target_data(data, folder=None, filename=None, filter_criteria=[{\"main_diag_discharge\": \"I21\"}], \n",
    "                    patient_id_column=\"patient_id\", date_column=\"date\"):\n",
    "    data = data[(~data[patient_id_column].isna()) & (~data[date_column].isna())].copy()\n",
    "    data[date_column] = get_correct_date_string(data[date_column])\n",
    "    for loc_dict in filter_criteria:\n",
    "        filters = []\n",
    "        for column in loc_dict:\n",
    "            if isinstance(loc_dict[column], str):\n",
    "                filters.append(data[column].apply(lambda x: loc_dict[column] in str(x)))\n",
    "            else:\n",
    "                filters.append(data[column].apply(loc_dict[column]))\n",
    "        data = data[np.logical_or.reduce(np.array(filters))]\n",
    "    target = data.groupby(patient_id_column)[date_column].agg(lambda x: sorted(list(x))).reset_index()\n",
    "    target = target.rename({patient_id_column: \"patient_id\", date_column: \"infarction_dates\"}, axis=1)\n",
    "    if not pd.isna(folder) and not pd.isna(filename):\n",
    "        target.to_csv(os.path.join(folder, filename), index=False)\n",
    "    return target\n",
    "\n",
    "def get_union_targets(targets):\n",
    "    target = targets[0].copy()\n",
    "    for new_target in targets[1:]:\n",
    "        target = pd.merge(target, new_target, suffixes=(\"\", \"_new\"),on=\"patient_id\", how=\"outer\")\n",
    "        target[\"infarction_dates\"] = target.apply(lambda x: sorted(list(set(get_empty_list_nan(x[\"infarction_dates\"]) + get_empty_list_nan(x[\"infarction_dates_new\"])))),\n",
    "                                                  axis=1)\n",
    "        target = target.drop([\"infarction_dates_new\"], axis=1)\n",
    "    return target\n",
    "\n",
    "\n",
    "def random_dates(start, end, n=10):\n",
    "    start_u = pd.to_datetime(start).value//10**9\n",
    "    end_u = pd.to_datetime(end).value//10**9\n",
    "    return pd.to_datetime(np.random.randint(start_u, end_u, n), unit='s').strftime('%Y-%m-%d')\n",
    "\n",
    "def get_filtered_data(df, repeat=10, date_start=\"2020-01-01\", date_end=\"2021-01-01\"):\n",
    "    new_df = df.append([df] * (repeat - 1), ignore_index=True)\n",
    "    new_df[\"date\"] = random_dates(date_start, date_end, len(new_df))\n",
    "    new_df = new_df[(new_df[\"death_dt\"].isna()) | (new_df[\"death_dt\"] > new_df[\"date\"])]\n",
    "    return new_df.reset_index(drop=True)\n",
    "\n",
    "def get_all_before(x, date, before=True):\n",
    "    if not isinstance(x, list):\n",
    "        return None\n",
    "    if isinstance(x[0], tuple):\n",
    "        if before:\n",
    "            res = [y for y in x if y[0] < date]\n",
    "        else:\n",
    "            res = [y for y in x if y[0] > date]\n",
    "    else:\n",
    "        if before:\n",
    "            res = [y for y in x if y < date]\n",
    "        else:\n",
    "            res = [y for y in x if y > date]\n",
    "    if not res:\n",
    "        return None\n",
    "    return res\n",
    "    \n",
    "def get_nearest_in_loc(x, value):\n",
    "    values = list(filter(lambda y: value in str(y[1]), x))\n",
    "    if not values:\n",
    "        return []\n",
    "    return max(values) \n",
    "\n",
    "\n",
    "def get_infarction(df, years=2):\n",
    "    return df.apply(lambda x: int(any([0 < time_diff_years(y, x[\"date\"]) < years for y in x[\"infarction_dates\"]])) if isinstance(x[\"infarction_dates\"], list) else 0, axis=1)\n",
    "\n",
    "def get_infarction_regression(df):\n",
    "    return df.apply(lambda x: min([time_diff_years(y, x[\"date\"]) for y in x[\"infarction_dates\"]]) if isinstance(x[\"infarction_dates\"], list) else 9999, axis=1)\n",
    "\n",
    "def get_nearest_value(df, column):\n",
    "    return df.apply(lambda x: max(x[column])[1] if isinstance(x[column], list) else None, axis=1)\n",
    "\n",
    "def get_nearest_diag_in(df, diag):\n",
    "    return df.apply(lambda x: 1 if isinstance(x[\"diags\"], list) and get_nearest_in_loc(x[\"diags\"], diag) else 0, axis=1)\n",
    "\n",
    "def get_nearest_diag_in_time_diff(df, diag):\n",
    "    return df.apply(lambda x: time_diff_years(x[\"date\"], get_nearest_in_loc(x[\"diags\"], diag)[0]) if isinstance(x[\"diags\"], list) and get_nearest_in_loc(x[\"diags\"], diag) else None, axis=1)\n",
    "\n",
    "def get_nearest_time_diff(df, column):\n",
    "    return df.apply(lambda x: time_diff_years(x[\"date\"], max(x[column])[0]) if isinstance(x[column], list) else None, axis=1)\n",
    "\n",
    "def get_agg_value(df, column, agg_function):\n",
    "    return df.apply(lambda x: agg_function([y[1] for y in x[column]]) if isinstance(x[column], list) else None, axis=1)\n",
    "\n"
   ]
  },
  {
   "cell_type": "markdown",
   "metadata": {},
   "source": [
    "Считываем нужную часть данных"
   ]
  },
  {
   "cell_type": "code",
   "execution_count": 3,
   "metadata": {},
   "outputs": [],
   "source": [
    "base_info_sample = pd.read_csv(\"data/target_less_15_nan_full_new_test_2.csv\")"
   ]
  },
  {
   "cell_type": "code",
   "execution_count": 4,
   "metadata": {},
   "outputs": [],
   "source": [
    "patient_id = set(base_info_sample[\"patient_id\"])"
   ]
  },
  {
   "cell_type": "code",
   "execution_count": 5,
   "metadata": {},
   "outputs": [],
   "source": [
    "base_info = pd.read_csv(\"data/data_less_nan_15.csv\", usecols=[\"patient_id\"])\n"
   ]
  },
  {
   "cell_type": "code",
   "execution_count": 6,
   "metadata": {},
   "outputs": [],
   "source": [
    "index = set(base_info[base_info[\"patient_id\"].isin(patient_id)].index + 1)"
   ]
  },
  {
   "cell_type": "markdown",
   "metadata": {},
   "source": [
    "Объединяем данные"
   ]
  },
  {
   "cell_type": "code",
   "execution_count": 7,
   "metadata": {},
   "outputs": [
    {
     "name": "stderr",
     "output_type": "stream",
     "text": [
      "C:\\Users\\peter\\AppData\\Local\\Temp\\ipykernel_19880\\2188219539.py:1: DtypeWarning: Columns (3,6) have mixed types. Specify dtype option on import or set low_memory=False.\n",
      "  base_info = pd.read_csv(\"data/data_less_nan_15.csv\", skiprows=lambda x: x not in index and x)\n"
     ]
    }
   ],
   "source": [
    "base_info = pd.read_csv(\"data/data_less_nan_15.csv\", skiprows=lambda x: x not in index and x)\n"
   ]
  },
  {
   "cell_type": "code",
   "execution_count": 8,
   "metadata": {},
   "outputs": [],
   "source": [
    "base_info = base_info.drop([\"age\"], axis=1)"
   ]
  },
  {
   "cell_type": "code",
   "execution_count": 9,
   "metadata": {},
   "outputs": [],
   "source": [
    "base_info = base_info.join(base_info_sample.set_index(\"patient_id\"), on=\"patient_id\")"
   ]
  },
  {
   "cell_type": "markdown",
   "metadata": {},
   "source": [
    "Подсчитываем число пропусков"
   ]
  },
  {
   "cell_type": "code",
   "execution_count": 10,
   "metadata": {},
   "outputs": [],
   "source": [
    "base_info[\"nan_count\"] = base_info.isna().sum(axis=1)"
   ]
  },
  {
   "cell_type": "markdown",
   "metadata": {},
   "source": [
    "Подсчитываем среднее число историй болезней с сердечно-сосудистыми заболеваниями"
   ]
  },
  {
   "cell_type": "code",
   "execution_count": 11,
   "metadata": {},
   "outputs": [
    {
     "data": {
      "text/plain": [
       "0.021786763148930684"
      ]
     },
     "execution_count": 11,
     "metadata": {},
     "output_type": "execute_result"
    }
   ],
   "source": [
    "base_info[base_info[\"diags\"].apply(lambda x: \"I\" in str(x))][\"target\"].mean()"
   ]
  },
  {
   "cell_type": "markdown",
   "metadata": {},
   "source": [
    "Копируем данные"
   ]
  },
  {
   "cell_type": "code",
   "execution_count": 12,
   "metadata": {},
   "outputs": [],
   "source": [
    "base_info_not_nan = base_info.copy()"
   ]
  },
  {
   "cell_type": "markdown",
   "metadata": {},
   "source": [
    "Предобрабатываем столбцы с анализами, используя разные подходы"
   ]
  },
  {
   "cell_type": "code",
   "execution_count": 13,
   "metadata": {},
   "outputs": [],
   "source": [
    "COLUMNS = ['Антропометрия_ЧСС',\n",
    "       'ЭКГ_qtc интервал', 'ЭКГ_r интервал', 'Курение_нет',\n",
    "       'Анализ_Триглицериды', 'Антропометрия_Диастолическое давление',\n",
    "       'Анализ_Креатинин в крови', 'Антропометрия_Вес',\n",
    "       'Анализ_Общий холестерин', 'Анализ_АСТ', 'ЭКГ_qrs интервал',\n",
    "       'Курение_бросил(а)', 'Анализ_КФК', 'ЭКГ_pq интервал', 'Анализ_ЛПНП',\n",
    "       'Анализ_Белок', 'ЭКГ_гипертрофия', 'Анализ_Билирубин',\n",
    "       'Антропометрия_Систолическое давление', 'Анализ_BNP', 'Анализ_ЛПВП',\n",
    "       'Курение_в прошлом', 'ЭКГ_qt интервал', 'Анализ_АЛТ',\n",
    "       'Антропометрия_Рост']"
   ]
  },
  {
   "cell_type": "code",
   "execution_count": 14,
   "metadata": {},
   "outputs": [
    {
     "name": "stdout",
     "output_type": "stream",
     "text": [
      "Антропометрия_ЧСС\n",
      "ЭКГ_qtc интервал\n",
      "ЭКГ_r интервал\n",
      "Курение_нет\n",
      "Анализ_Триглицериды\n",
      "Антропометрия_Диастолическое давление\n",
      "Анализ_Креатинин в крови\n",
      "Антропометрия_Вес\n",
      "Анализ_Общий холестерин\n",
      "Анализ_АСТ\n",
      "ЭКГ_qrs интервал\n",
      "Курение_бросил(а)\n",
      "Анализ_КФК\n",
      "ЭКГ_pq интервал\n",
      "Анализ_ЛПНП\n",
      "Анализ_Белок\n",
      "ЭКГ_гипертрофия\n",
      "Анализ_Билирубин\n",
      "Антропометрия_Систолическое давление\n",
      "Анализ_BNP\n",
      "Анализ_ЛПВП\n",
      "Курение_в прошлом\n",
      "ЭКГ_qt интервал\n",
      "Анализ_АЛТ\n",
      "Антропометрия_Рост\n"
     ]
    }
   ],
   "source": [
    "COLUMNS_LAST = []\n",
    "for column in COLUMNS:\n",
    "    print(column)\n",
    "    COLUMNS_LAST.append(column + \"_last\")\n",
    "    base_info_not_nan[column + \"_last\"] = base_info_not_nan[column].apply(lambda x: eval(x.replace(\"nan\", \"None\"))[-1][1] if not pd.isna(x) else x)"
   ]
  },
  {
   "cell_type": "code",
   "execution_count": 15,
   "metadata": {},
   "outputs": [
    {
     "name": "stdout",
     "output_type": "stream",
     "text": [
      "Антропометрия_ЧСС\n",
      "ЭКГ_qtc интервал\n",
      "ЭКГ_r интервал\n",
      "Курение_нет\n",
      "Анализ_Триглицериды\n",
      "Антропометрия_Диастолическое давление\n",
      "Анализ_Креатинин в крови\n",
      "Антропометрия_Вес\n",
      "Анализ_Общий холестерин\n",
      "Анализ_АСТ\n",
      "ЭКГ_qrs интервал\n",
      "Курение_бросил(а)\n",
      "Анализ_КФК\n",
      "ЭКГ_pq интервал\n",
      "Анализ_ЛПНП\n",
      "Анализ_Белок\n",
      "ЭКГ_гипертрофия\n",
      "Анализ_Билирубин\n",
      "Антропометрия_Систолическое давление\n",
      "Анализ_BNP\n",
      "Анализ_ЛПВП\n",
      "Курение_в прошлом\n",
      "ЭКГ_qt интервал\n",
      "Анализ_АЛТ\n",
      "Антропометрия_Рост\n"
     ]
    }
   ],
   "source": [
    "COLUMNS_ADD = []\n",
    "for column in COLUMNS:\n",
    "    print(column)\n",
    "    COLUMNS_ADD.append(column + \"_last_time_diff\")\n",
    "    base_info_not_nan[column + \"_last_time_diff\"] = base_info_not_nan.apply(lambda x: time_diff_years(x[\"date\"], eval(x[column].replace(\"nan\", \"None\"))[-1][0]) if not pd.isna(x[column]) else x[column], axis=1)"
   ]
  },
  {
   "cell_type": "markdown",
   "metadata": {},
   "source": [
    "Загружаем различную информацию об взаимосвязях заболеваний"
   ]
  },
  {
   "cell_type": "code",
   "execution_count": 16,
   "metadata": {},
   "outputs": [],
   "source": [
    "with open('data/diags_imply_dict.pickle', 'rb') as handle:\n",
    "    diags_imply_dict = pickle.load(handle)\n",
    "    \n",
    "with open('data/diags_imply_dict_scaled.pickle', 'rb') as handle:\n",
    "    diags_imply_dict_scaled = pickle.load(handle)\n",
    "    \n",
    "with open('data/diags_imply_dict_weight.pickle', 'rb') as handle:\n",
    "    diags_imply_dict_weight = pickle.load(handle)\n",
    "    \n",
    "with open('data/diags_imply_dict_weight_scaled.pickle', 'rb') as handle:\n",
    "    diags_imply_dict_weight_scaled = pickle.load(handle)\n",
    "    \n",
    "with open('data/diags_imply_dict_rude.pickle', 'rb') as handle:\n",
    "    diags_imply_dict_rude = pickle.load(handle)\n",
    "    \n",
    "with open('data/diags_imply_dict_scaled_rude.pickle', 'rb') as handle:\n",
    "    diags_imply_dict_scaled_rude = pickle.load(handle)\n",
    "    \n",
    "with open('data/diags_imply_dict_weight_rude.pickle', 'rb') as handle:\n",
    "    diags_imply_dict_weight_rude = pickle.load(handle)\n",
    "    \n",
    "with open('data/diags_imply_dict_weight_scaled_rude.pickle', 'rb') as handle:\n",
    "    diags_imply_dict_weight_scaled_rude = pickle.load(handle)\n",
    "    \n",
    "with open('data/dict_imply_webgraph_10000_1000.pickle', 'rb') as handle:\n",
    "    dict_imply_webgraph_10000_1000 = pickle.load(handle)"
   ]
  },
  {
   "cell_type": "markdown",
   "metadata": {},
   "source": [
    "Предподготавливаем столбец с диагнозами"
   ]
  },
  {
   "cell_type": "code",
   "execution_count": 17,
   "metadata": {},
   "outputs": [],
   "source": [
    "base_info_not_nan[\"diags\"] = base_info_not_nan[\"diags\"].apply(lambda x: eval(x) if not pd.isna(x) else x)"
   ]
  },
  {
   "cell_type": "code",
   "execution_count": 18,
   "metadata": {},
   "outputs": [],
   "source": [
    "base_info_not_nan[\"diags_prepare\"] = base_info_not_nan.apply(lambda x: [(time_diff_years(x[\"date\"], y[0]), y[1]) for y in x[\"diags\"]], axis=1)"
   ]
  },
  {
   "cell_type": "code",
   "execution_count": 19,
   "metadata": {},
   "outputs": [],
   "source": [
    "base_info_not_nan[\"diags_prepare\"] = base_info_not_nan.apply(lambda x: [(y[0], y[1].split(\".\")[0]) for y in x[\"diags_prepare\"] if y[0] > 0], axis=1)"
   ]
  },
  {
   "cell_type": "markdown",
   "metadata": {},
   "source": [
    "Готовим весовую функцию"
   ]
  },
  {
   "cell_type": "code",
   "execution_count": 20,
   "metadata": {},
   "outputs": [],
   "source": [
    "def weight_f(x, alpha=1, eps=1/365):\n",
    "    if pd.isna(x):\n",
    "        return weight_f(0, alpha=alpha, eps=eps)\n",
    "    return 1 / (x + eps) ** alpha"
   ]
  },
  {
   "cell_type": "markdown",
   "metadata": {},
   "source": [
    "Готовим различные взвешивания с искючениями таргетных заболеваний"
   ]
  },
  {
   "cell_type": "code",
   "execution_count": 21,
   "metadata": {},
   "outputs": [],
   "source": [
    "INFARCT_CODES = [\"I21\", \"I22\", \"I23\", \"I63\"]\n",
    "\n",
    "def get_imply_weight(x, imply_dict, date, weight_method=\"const\", weight_func=lambda x: 1 / (x + 1),\n",
    "                     bad_codes=[\"I21\", \"I22\", \"I23\", \"I63\"]):\n",
    "    score = 0\n",
    "    x = list(filter(lambda y: y[1] not in bad_codes, x))\n",
    "    if not x:\n",
    "        return None\n",
    "    norm = 0\n",
    "    for i in range(len(x)):\n",
    "        if weight_method == \"const\":\n",
    "            loc_norm = 1\n",
    "        elif weight_method == \"index\":\n",
    "            loc_norm = weight_func(i)\n",
    "        else:\n",
    "            loc_norm = weight_func(x[len(x) - 1 - i][0])\n",
    "        norm += loc_norm\n",
    "        for code in INFARCT_CODES:\n",
    "            if (x[len(x) - 1 - i][1], code) in imply_dict:\n",
    "                score += imply_dict[(x[len(x) - 1 - i][1], code)] / loc_norm\n",
    "    score /= norm\n",
    "    return score\n",
    "                \n",
    "            \n",
    "def get_last_imply(x, imply_dict, bad_codes=[\"I21\", \"I22\", \"I23\", \"I63\"]):\n",
    "    x = list(filter(lambda y: y[1] not in bad_codes, x))\n",
    "    return get_imply_weight(x[-1:], imply_dict, None, weight_method=\"const\", weight_func=lambda x: 1 / (x + 1),\n",
    "                     bad_codes=bad_codes)\n",
    "    "
   ]
  },
  {
   "cell_type": "markdown",
   "metadata": {},
   "source": [
    "Запускаем процесс получения фичей по взаимосвязям заболеваний"
   ]
  },
  {
   "cell_type": "code",
   "execution_count": null,
   "metadata": {},
   "outputs": [],
   "source": [
    "DIAGS_COLUMNS = []\n",
    "\n",
    "dicts_dict = {\"diags_imply_dict_rude\": diags_imply_dict_rude,\n",
    "              \"diags_imply_dict_scaled_rude\": diags_imply_dict_scaled_rude,\n",
    "              \"diags_imply_dict_weight_rude\": diags_imply_dict_weight_rude,\n",
    "              \"diags_imply_dict_weight_scaled_rude\": diags_imply_dict_weight_scaled_rude,\n",
    "              \"dict_imply_webgraph_10000_1000\": dict_imply_webgraph_10000_1000}\n",
    "\n",
    "weight_func_dict = {\"weight_f_index\": lambda x: weight_f(x, eps=1),\n",
    "                    \"weight_f_years\": weight_f, \n",
    "                    \"weight_f_alpha0.5_index\": lambda x: weight_f(x, eps=1, alpha=0.5),\n",
    "                    \"weight_f_alpha0.5_years\": lambda x: weight_f(x, alpha=0.5)}\n",
    "methods = [\"const\", \"index\", \"year\"]\n",
    "for imply_dict in dicts_dict:\n",
    "    base_info_not_nan[\"{}_last\".format(imply_dict)] = base_info_not_nan.apply(lambda x: get_last_imply(x[\"diags_prepare\"], dicts_dict[imply_dict], bad_codes=[\"I21\", \"I22\", \"I23\", \"I63\"]), axis=1)\n",
    "    DIAGS_COLUMNS.append(\"{}_last\".format(imply_dict))\n",
    "    print(\"{}_last\".format(imply_dict))\n",
    "    for method in methods:\n",
    "        if method == \"const\":\n",
    "            base_info_not_nan[imply_dict] = base_info_not_nan.apply(lambda x: get_imply_weight(x[\"diags_prepare\"], dicts_dict[imply_dict], x[\"date\"], weight_method=\"const\", weight_func=lambda x: 1 / (x + 1),\n",
    "                                                                                               bad_codes=[\"I21\", \"I22\", \"I23\", \"I63\"]), axis=1)\n",
    "            DIAGS_COLUMNS.append(imply_dict)\n",
    "            print(imply_dict)\n",
    "        else:\n",
    "            for weight_func in weight_func_dict:\n",
    "                base_info_not_nan[\"{}_{}_{}\".format(imply_dict, method, weight_func)] = base_info_not_nan.apply(lambda x: get_imply_weight(x[\"diags_prepare\"], dicts_dict[imply_dict], x[\"date\"], weight_method=method, weight_func=weight_func_dict[weight_func],\n",
    "                                                                                                                                           bad_codes=[\"I21\", \"I22\", \"I23\", \"I63\"]), axis=1)\n",
    "                DIAGS_COLUMNS.append(\"{}_{}_{}\".format(imply_dict, method, weight_func))\n",
    "                print(\"{}_{}_{}\".format(imply_dict, method, weight_func))\n",
    "base_info_not_nan"
   ]
  },
  {
   "cell_type": "markdown",
   "metadata": {},
   "source": [
    "Получаем дополнительные фичи"
   ]
  },
  {
   "cell_type": "code",
   "execution_count": 23,
   "metadata": {},
   "outputs": [],
   "source": [
    "ADD = [\"age\", \"weight\", \"imt\"]\n",
    "\n",
    "base_info_not_nan[\"diags_count\"] = base_info_not_nan[\"diags\"].apply(len)\n",
    "ADD.append(\"diags_count\")\n",
    "base_info_not_nan[\"gender_int\"] = base_info_not_nan[\"gender\"] == \"M\"\n",
    "ADD.append(\"gender_int\")"
   ]
  },
  {
   "cell_type": "markdown",
   "metadata": {},
   "source": [
    "Разбиваем на train и test согласно генерации датасета по датам"
   ]
  },
  {
   "cell_type": "code",
   "execution_count": 24,
   "metadata": {},
   "outputs": [],
   "source": [
    "train = base_info_not_nan[base_info_not_nan[\"date\"] < \"2021-11-01\"]\n",
    "test = base_info_not_nan[base_info_not_nan[\"date\"] == \"2021-11-01\"]"
   ]
  },
  {
   "cell_type": "markdown",
   "metadata": {},
   "source": [
    "Создаем модель машинного обучения"
   ]
  },
  {
   "cell_type": "code",
   "execution_count": 25,
   "metadata": {},
   "outputs": [],
   "source": [
    "clf = LGBMClassifier(n_estimators=500, random_state=42) "
   ]
  },
  {
   "cell_type": "code",
   "execution_count": 26,
   "metadata": {},
   "outputs": [
    {
     "data": {
      "text/plain": [
       "LGBMClassifier(n_estimators=500, random_state=42)"
      ]
     },
     "execution_count": 26,
     "metadata": {},
     "output_type": "execute_result"
    }
   ],
   "source": [
    "clf.fit(train[COLUMNS_LAST + COLUMNS_ADD + ADD + DIAGS_COLUMNS ], train[\"target\"])"
   ]
  },
  {
   "cell_type": "code",
   "execution_count": 27,
   "metadata": {},
   "outputs": [],
   "source": [
    "predict_proba = clf.predict_proba(test[COLUMNS_LAST + COLUMNS_ADD + ADD + DIAGS_COLUMNS])[:, 1]"
   ]
  },
  {
   "cell_type": "code",
   "execution_count": 28,
   "metadata": {},
   "outputs": [
    {
     "data": {
      "text/plain": [
       "0.016543796747639956"
      ]
     },
     "execution_count": 28,
     "metadata": {},
     "output_type": "execute_result"
    }
   ],
   "source": [
    "test[\"target\"].mean()"
   ]
  },
  {
   "cell_type": "markdown",
   "metadata": {},
   "source": [
    "Смотрим на метрики качества в разрезе различных порогов"
   ]
  },
  {
   "cell_type": "code",
   "execution_count": 29,
   "metadata": {},
   "outputs": [
    {
     "name": "stdout",
     "output_type": "stream",
     "text": [
      "0.03254910767361065 0.016543796747639956 1.0\n",
      "0.0 1.0\n",
      "---\n",
      "0.21113852661261895 0.13484916704187302 0.4862012987012987\n",
      "0.9475265234785696 0.4862012987012987\n",
      "---\n",
      "0.21756856931060045 0.20020463847203274 0.2382305194805195\n",
      "0.9839903327553012 0.2382305194805195\n",
      "---\n",
      "0.15960912052117265 0.24098360655737705 0.11931818181818182\n",
      "0.993678058904652 0.11931818181818182\n",
      "---\n",
      "0.10407689758037784 0.28390596745027125 0.06371753246753246\n",
      "0.9972964485164603 0.06371753246753246\n",
      "---\n",
      "0.063003663003663 0.3233082706766917 0.0349025974025974\n",
      "0.9987711129620274 0.0349025974025974\n",
      "---\n",
      "0.030104206869934386 0.30708661417322836 0.015827922077922076\n",
      "0.9993992107814356 0.015827922077922076\n",
      "---\n",
      "0.014251781472684084 0.2903225806451613 0.007305194805194805\n",
      "0.9996996053907178 0.007305194805194805\n",
      "---\n",
      "0.0056112224448897794 0.22580645161290322 0.002840909090909091\n",
      "0.999836148394937 0.002840909090909091\n",
      "---\n",
      "0.0008084074373484237 0.1 0.00040584415584415587\n",
      "0.9999385556481014 0.00040584415584415587\n",
      "---\n"
     ]
    }
   ],
   "source": [
    "for i in range(10):\n",
    "    tn, fp, fn, tp = confusion_matrix(test[\"target\"], predict_proba > i * 0.1).ravel()\n",
    "    print(f1_score(test[\"target\"], predict_proba > i * 0.1), precision_score(test[\"target\"], predict_proba > i * 0.1), recall_score(test[\"target\"], predict_proba > i * 0.1))\n",
    "    print(tn / (tn+fp), tp /(tp + fn))\n",
    "    print(\"---\")"
   ]
  },
  {
   "cell_type": "code",
   "execution_count": 30,
   "metadata": {},
   "outputs": [
    {
     "name": "stdout",
     "output_type": "stream",
     "text": [
      "0.21113852661261895 0.13484916704187302 0.4862012987012987\n",
      "0.9475265234785696 0.4862012987012987\n",
      "---\n"
     ]
    }
   ],
   "source": [
    "i = 1\n",
    "\n",
    "tn, fp, fn, tp = confusion_matrix(test[\"target\"], predict_proba > i * 0.1).ravel()\n",
    "print(f1_score(test[\"target\"], predict_proba > i * 0.1), precision_score(test[\"target\"], predict_proba > i * 0.1), recall_score(test[\"target\"], predict_proba > i * 0.1))\n",
    "print(tn / (tn+fp), tp /(tp + fn))\n",
    "print(\"---\")"
   ]
  },
  {
   "cell_type": "markdown",
   "metadata": {},
   "source": [
    "Сохраняем результат предсказания на тестовых данных"
   ]
  },
  {
   "cell_type": "code",
   "execution_count": 31,
   "metadata": {},
   "outputs": [],
   "source": [
    "pred = pd.DataFrame()\n",
    "pred[\"patient_id\"] = test[\"patient_id\"]\n",
    "pred[\"target\"] = (predict_proba > 0.1).astype(int)\n",
    "pred[\"p\"] = predict_proba\n",
    "pred.to_csv(\"data/pred_1year_1.csv\", index=False)"
   ]
  },
  {
   "cell_type": "markdown",
   "metadata": {},
   "source": [
    "Сохраняем модель"
   ]
  },
  {
   "cell_type": "code",
   "execution_count": 32,
   "metadata": {},
   "outputs": [
    {
     "data": {
      "text/plain": [
       "['data/model.pkl']"
      ]
     },
     "execution_count": 32,
     "metadata": {},
     "output_type": "execute_result"
    }
   ],
   "source": [
    "joblib.dump(clf, \"data/model.pkl\")"
   ]
  }
 ],
 "metadata": {
  "kernelspec": {
   "display_name": "Python 3.7.4 Spark 2.4.4",
   "language": "python",
   "name": "python3"
  },
  "language_info": {
   "codemirror_mode": {
    "name": "ipython",
    "version": 3
   },
   "file_extension": ".py",
   "mimetype": "text/x-python",
   "name": "python",
   "nbconvert_exporter": "python",
   "pygments_lexer": "ipython3",
   "version": "3.7.4"
  }
 },
 "nbformat": 4,
 "nbformat_minor": 5
}
