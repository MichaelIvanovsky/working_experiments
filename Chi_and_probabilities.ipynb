{
 "cells": [
  {
   "cell_type": "code",
   "execution_count": 1,
   "metadata": {},
   "outputs": [],
   "source": [
    "import numpy as np\n",
    "import pandas as pd\n",
    "import scipy.stats as stats"
   ]
  },
  {
   "cell_type": "markdown",
   "metadata": {},
   "source": [
    "# Тест Хи-квадрат"
   ]
  },
  {
   "cell_type": "code",
   "execution_count": 2,
   "metadata": {},
   "outputs": [
    {
     "name": "stdout",
     "output_type": "stream",
     "text": [
      "National\n",
      "col_0      count\n",
      "0               \n",
      "asian      15000\n",
      "black      50000\n",
      "hispanic   60000\n",
      "other      35000\n",
      "white     100000\n",
      "Minnesota\n",
      "col_0     count\n",
      "0              \n",
      "asian        75\n",
      "black       250\n",
      "hispanic    300\n",
      "other       150\n",
      "white       600\n"
     ]
    }
   ],
   "source": [
    "#Генерируем данные о численности населения по расам\n",
    "national = pd.DataFrame([\"white\"]*100000 + [\"hispanic\"]*60000 + [\"black\"]*50000 + [\"asian\"]*15000 + [\"other\"]*35000)\n",
    "\n",
    "minnesota = pd.DataFrame([\"white\"]*600 + [\"hispanic\"]*300 + [\"black\"]*250 + [\"asian\"]*75 + [\"other\"]*150)\n",
    "\n",
    "national_table = pd.crosstab(index=national[0], columns=\"count\")\n",
    "minnesota_table = pd.crosstab(index=minnesota[0], columns=\"count\")\n",
    "\n",
    "print(\"National\")\n",
    "print(national_table)\n",
    "print(\"Minnesota\")\n",
    "print(minnesota_table)"
   ]
  },
  {
   "cell_type": "code",
   "execution_count": 7,
   "metadata": {},
   "outputs": [
    {
     "name": "stdout",
     "output_type": "stream",
     "text": [
      "col_0        count\n",
      "0                 \n",
      "asian     0.057692\n",
      "black     0.192308\n",
      "hispanic  0.230769\n",
      "other     0.134615\n",
      "white     0.384615\n",
      "col_0\n",
      "count    18.194805\n",
      "dtype: float64\n"
     ]
    }
   ],
   "source": [
    "#Определяем ожидаемые величины и наблюдаемые величины\n",
    "observed = minnesota_table\n",
    "\n",
    "national_ratios = national_table / len(national)\n",
    "\n",
    "print(national_ratios)\n",
    "\n",
    "expected = national_ratios*len(minnesota)\n",
    "\n",
    "#Проводим тест \"руками\"\n",
    "chi_squared_stat = (((observed - expected)**2)/expected).sum()\n",
    "print(chi_squared_stat)#Последний показатель - это test-statistic по аналогии с t-тестом, его мы должны сравнить с критическим значением и p-value,\n",
    "#чтобы сделать выводы о статистической значимости"
   ]
  },
  {
   "cell_type": "code",
   "execution_count": 8,
   "metadata": {},
   "outputs": [
    {
     "name": "stdout",
     "output_type": "stream",
     "text": [
      "Critical value:\n",
      "9.487729036781154\n",
      "P-value:\n",
      "[0.00113047]\n"
     ]
    }
   ],
   "source": [
    "#Для этого делаем следующее\n",
    "crit = stats.chi2.ppf(q = 0.95, #Находим критическое значение для 95%\n",
    "                     df = 4) #Количество категорий в нашем датасете минус 1\n",
    "print(\"Critical value:\")\n",
    "print(crit)\n",
    "#Хи-тест - это односторонний тест, то есть, у нас нет разных сторон, нас интересует только top и tail. Поэтому берем 0.95\n",
    "\n",
    "p_value = 1 - stats.chi2.cdf(x=chi_squared_stat, df=4)\n",
    "\n",
    "print(\"P-value:\")\n",
    "print(p_value)"
   ]
  },
  {
   "cell_type": "code",
   "execution_count": null,
   "metadata": {},
   "outputs": [],
   "source": [
    "#Мы получили критическое значение 9.48 (намного меньше, чем t-statistic = 18.19) и p-value = 0.001 - очень маленькое значение.\n",
    "#Исходя из этого отвергаем нулевую гипотезу и заключаем, что распределение в Миннесоте отличается от общенационального."
   ]
  },
  {
   "cell_type": "code",
   "execution_count": 9,
   "metadata": {},
   "outputs": [
    {
     "data": {
      "text/plain": [
       "Power_divergenceResult(statistic=array([18.19480519]), pvalue=array([0.00113047]))"
      ]
     },
     "execution_count": 9,
     "metadata": {},
     "output_type": "execute_result"
    }
   ],
   "source": [
    "#Тест из 7 ячейки можно упростить с помощью scipy таким образом\n",
    "stats.chisquare(f_obs = observed,\n",
    "               f_exp = expected)\n",
    "#Получаем те же результаты"
   ]
  },
  {
   "cell_type": "markdown",
   "metadata": {},
   "source": [
    "### Тест Хи-квадрат на независимость"
   ]
  },
  {
   "cell_type": "code",
   "execution_count": 11,
   "metadata": {},
   "outputs": [
    {
     "data": {
      "text/html": [
       "<div>\n",
       "<style scoped>\n",
       "    .dataframe tbody tr th:only-of-type {\n",
       "        vertical-align: middle;\n",
       "    }\n",
       "\n",
       "    .dataframe tbody tr th {\n",
       "        vertical-align: top;\n",
       "    }\n",
       "\n",
       "    .dataframe thead th {\n",
       "        text-align: right;\n",
       "    }\n",
       "</style>\n",
       "<table border=\"1\" class=\"dataframe\">\n",
       "  <thead>\n",
       "    <tr style=\"text-align: right;\">\n",
       "      <th></th>\n",
       "      <th>democrat</th>\n",
       "      <th>independent</th>\n",
       "      <th>republican</th>\n",
       "      <th>rows_totals</th>\n",
       "    </tr>\n",
       "  </thead>\n",
       "  <tbody>\n",
       "    <tr>\n",
       "      <th>asian</th>\n",
       "      <td>21</td>\n",
       "      <td>7</td>\n",
       "      <td>32</td>\n",
       "      <td>60</td>\n",
       "    </tr>\n",
       "    <tr>\n",
       "      <th>black</th>\n",
       "      <td>65</td>\n",
       "      <td>25</td>\n",
       "      <td>64</td>\n",
       "      <td>154</td>\n",
       "    </tr>\n",
       "    <tr>\n",
       "      <th>hispanic</th>\n",
       "      <td>107</td>\n",
       "      <td>50</td>\n",
       "      <td>94</td>\n",
       "      <td>251</td>\n",
       "    </tr>\n",
       "    <tr>\n",
       "      <th>other</th>\n",
       "      <td>15</td>\n",
       "      <td>8</td>\n",
       "      <td>15</td>\n",
       "      <td>38</td>\n",
       "    </tr>\n",
       "    <tr>\n",
       "      <th>white</th>\n",
       "      <td>189</td>\n",
       "      <td>96</td>\n",
       "      <td>212</td>\n",
       "      <td>497</td>\n",
       "    </tr>\n",
       "    <tr>\n",
       "      <th>cols_totals</th>\n",
       "      <td>397</td>\n",
       "      <td>186</td>\n",
       "      <td>417</td>\n",
       "      <td>1000</td>\n",
       "    </tr>\n",
       "  </tbody>\n",
       "</table>\n",
       "</div>"
      ],
      "text/plain": [
       "             democrat  independent  republican  rows_totals\n",
       "asian              21            7          32           60\n",
       "black              65           25          64          154\n",
       "hispanic          107           50          94          251\n",
       "other              15            8          15           38\n",
       "white             189           96         212          497\n",
       "cols_totals       397          186         417         1000"
      ]
     },
     "execution_count": 11,
     "metadata": {},
     "output_type": "execute_result"
    }
   ],
   "source": [
    "#Генерируем данные об избирателях и их предпочтениях\n",
    "np.random.seed(10)\n",
    "\n",
    "voter_race = np.random.choice(a = [\"asian\", \"black\", \"hispanic\", \"other\", \"white\"],\n",
    "                             p = [0.05, 0.15, 0.25, 0.05, 0.5],\n",
    "                             size=1000)\n",
    "voter_party = np.random.choice(a = [\"democrat\", \"independent\", \"republican\"],\n",
    "                             p = [0.4, 0.2, 0.4],\n",
    "                             size=1000)\n",
    "voters = pd.DataFrame({\"race\": voter_race,\n",
    "                      \"party\": voter_party})\n",
    "voter_tab = pd.crosstab(voters.race, voters.party, margins=True)\n",
    "voter_tab.columns = [\"democrat\", \"independent\", \"republican\", \"rows_totals\"]\n",
    "voter_tab.index = [\"asian\", \"black\", \"hispanic\", \"other\", \"white\", \"cols_totals\"]\n",
    "observed = voter_tab.iloc[0:5,0:3]\n",
    "voter_tab"
   ]
  },
  {
   "cell_type": "code",
   "execution_count": 14,
   "metadata": {},
   "outputs": [
    {
     "data": {
      "text/html": [
       "<div>\n",
       "<style scoped>\n",
       "    .dataframe tbody tr th:only-of-type {\n",
       "        vertical-align: middle;\n",
       "    }\n",
       "\n",
       "    .dataframe tbody tr th {\n",
       "        vertical-align: top;\n",
       "    }\n",
       "\n",
       "    .dataframe thead th {\n",
       "        text-align: right;\n",
       "    }\n",
       "</style>\n",
       "<table border=\"1\" class=\"dataframe\">\n",
       "  <thead>\n",
       "    <tr style=\"text-align: right;\">\n",
       "      <th></th>\n",
       "      <th>democrat</th>\n",
       "      <th>independent</th>\n",
       "      <th>republican</th>\n",
       "    </tr>\n",
       "  </thead>\n",
       "  <tbody>\n",
       "    <tr>\n",
       "      <th>asian</th>\n",
       "      <td>23.820</td>\n",
       "      <td>11.160</td>\n",
       "      <td>25.020</td>\n",
       "    </tr>\n",
       "    <tr>\n",
       "      <th>black</th>\n",
       "      <td>61.138</td>\n",
       "      <td>28.644</td>\n",
       "      <td>64.218</td>\n",
       "    </tr>\n",
       "    <tr>\n",
       "      <th>hispanic</th>\n",
       "      <td>99.647</td>\n",
       "      <td>46.686</td>\n",
       "      <td>104.667</td>\n",
       "    </tr>\n",
       "    <tr>\n",
       "      <th>other</th>\n",
       "      <td>15.086</td>\n",
       "      <td>7.068</td>\n",
       "      <td>15.846</td>\n",
       "    </tr>\n",
       "    <tr>\n",
       "      <th>white</th>\n",
       "      <td>197.309</td>\n",
       "      <td>92.442</td>\n",
       "      <td>207.249</td>\n",
       "    </tr>\n",
       "  </tbody>\n",
       "</table>\n",
       "</div>"
      ],
      "text/plain": [
       "          democrat  independent  republican\n",
       "asian       23.820       11.160      25.020\n",
       "black       61.138       28.644      64.218\n",
       "hispanic    99.647       46.686     104.667\n",
       "other       15.086        7.068      15.846\n",
       "white      197.309       92.442     207.249"
      ]
     },
     "execution_count": 14,
     "metadata": {},
     "output_type": "execute_result"
    }
   ],
   "source": [
    "#Считаем ожидаемые значения - они получаются путём перемножения соответствующих колонке и строке значений из rows_totals и cols_totals\n",
    "expected = np.outer(voter_tab[\"rows_totals\"][0:5],\n",
    "                   voter_tab.loc[\"cols_totals\"][0:3]) / 1000\n",
    "\n",
    "expected = pd.DataFrame(expected)\n",
    "\n",
    "expected.columns = [\"democrat\", \"independent\", \"republican\"]\n",
    "expected.index = [\"asian\", \"black\", \"hispanic\", \"other\", \"white\"]\n",
    "expected"
   ]
  },
  {
   "cell_type": "code",
   "execution_count": 15,
   "metadata": {},
   "outputs": [
    {
     "name": "stdout",
     "output_type": "stream",
     "text": [
      "7.169321280162059\n"
     ]
    }
   ],
   "source": [
    "chi_squared_stat = (((observed - expected)**2)/expected).sum().sum() #Поскольку тест 2D (таблица), нам нужно прописать сумму дважды\n",
    "print(chi_squared_stat)"
   ]
  },
  {
   "cell_type": "code",
   "execution_count": 16,
   "metadata": {},
   "outputs": [
    {
     "name": "stdout",
     "output_type": "stream",
     "text": [
      "Critical value:\n",
      "15.50731305586545\n",
      "P-value:\n",
      "0.518479392948842\n"
     ]
    }
   ],
   "source": [
    "\n",
    "crit = stats.chi2.ppf(q = 0.95, #У нас тот же доверительный интервал\n",
    "                     df = 8) #Но другое кол-во степеней свободы - здесь, в 2D, оно равно произведению размеров обоих датафреймов - 1. То есть:\n",
    "#(5-1)*(3-1) = 8. - см. кол-во строк и столбцов в таблице.\n",
    "print(\"Critical value:\")\n",
    "print(crit)\n",
    "#Хи-тест - это односторонний тест, то есть, у нас нет разных сторон, нас интересует только top и tail. Поэтому берем 0.95\n",
    "\n",
    "p_value = 1 - stats.chi2.cdf(x=chi_squared_stat, df=8)\n",
    "\n",
    "print(\"P-value:\")\n",
    "print(p_value)"
   ]
  },
  {
   "cell_type": "code",
   "execution_count": null,
   "metadata": {},
   "outputs": [],
   "source": [
    "#Получили большой p-value и намного больший тест-статистик, поэтому мы не можем отвергнуть нулевую гипотезу"
   ]
  },
  {
   "cell_type": "code",
   "execution_count": 18,
   "metadata": {},
   "outputs": [
    {
     "data": {
      "text/plain": [
       "(7.169321280162059,\n",
       " 0.518479392948842,\n",
       " 8,\n",
       " array([[ 23.82 ,  11.16 ,  25.02 ],\n",
       "        [ 61.138,  28.644,  64.218],\n",
       "        [ 99.647,  46.686, 104.667],\n",
       "        [ 15.086,   7.068,  15.846],\n",
       "        [197.309,  92.442, 207.249]]))"
      ]
     },
     "execution_count": 18,
     "metadata": {},
     "output_type": "execute_result"
    }
   ],
   "source": [
    "#А теперь как можно посчитать Хи-квадрат проще:\n",
    "stats.chi2_contingency(observed=observed)"
   ]
  },
  {
   "cell_type": "markdown",
   "metadata": {},
   "source": [
    "# Вероятность в Python\n",
    "### Равномерное распределение"
   ]
  },
  {
   "cell_type": "code",
   "execution_count": 19,
   "metadata": {},
   "outputs": [],
   "source": [
    "%matplotlib inline\n",
    "import numpy as np\n",
    "import pandas as pd\n",
    "import scipy.stats as stats\n",
    "import matplotlib.pyplot as plt"
   ]
  },
  {
   "cell_type": "code",
   "execution_count": 20,
   "metadata": {},
   "outputs": [],
   "source": [
    "#Сначала рассмотрим равномерное распределение - uniform distribution\n",
    "#Его суть в том, что все значения в заданном промежутке в равной степени могут иметь место, а все значения за пределами этого промежутка - не могут\n",
    "uniform_data = stats.uniform.rvs(size=100000, #Генерируем 100000 значений ##rvs - используется для генерирования рандомных данных\n",
    "                                loc=0,       #С нуля\n",
    "                                scale=10)    #До 10"
   ]
  },
  {
   "cell_type": "code",
   "execution_count": 21,
   "metadata": {},
   "outputs": [
    {
     "data": {
      "text/plain": [
       "<AxesSubplot:ylabel='Density'>"
      ]
     },
     "execution_count": 21,
     "metadata": {},
     "output_type": "execute_result"
    },
    {
     "data": {
      "image/png": "[encoded data removed]",
      "text/plain": [
       "<Figure size 648x648 with 1 Axes>"
      ]
     },
     "metadata": {
      "needs_background": "light"
     },
     "output_type": "display_data"
    }
   ],
   "source": [
    "pd.DataFrame(uniform_data).plot(kind='density', #Строим график - плотность распределения\n",
    "                               figsize=(9,9),\n",
    "                               xlim=(-1,11))"
   ]
  },
  {
   "cell_type": "code",
   "execution_count": 22,
   "metadata": {},
   "outputs": [
    {
     "data": {
      "text/plain": [
       "0.25"
      ]
     },
     "execution_count": 22,
     "metadata": {},
     "output_type": "execute_result"
    }
   ],
   "source": [
    "#Интегральная (кумулятивная) функция распределения - cumulatuve distribution function (cdf). Позволяет понять, какова вероятность,\n",
    "#что определенное значение оказывается ниже определенного показателя. Например, мы хотим понять, какова вероятность того, что значение будет\n",
    "#в отрезке от  0 до 2.5. Мы можем выяснить это следующим образом:\n",
    "stats.uniform.cdf(x=2.5,   #Нужный квантиль или иное значение\n",
    "                 loc=0,    #Стартовая точка распределения\n",
    "                 scale=10) #Конечная точка распределения"
   ]
  },
  {
   "cell_type": "code",
   "execution_count": null,
   "metadata": {},
   "outputs": [],
   "source": [
    "#То есть, у нас 25% вероятность, что значение попадёт в область распределения ниже 2.5"
   ]
  },
  {
   "cell_type": "code",
   "execution_count": 24,
   "metadata": {},
   "outputs": [
    {
     "data": {
      "text/plain": [
       "4.0"
      ]
     },
     "execution_count": 24,
     "metadata": {},
     "output_type": "execute_result"
    }
   ],
   "source": [
    "#ppf (percent point function) - также обратная кумулятивная функция представляет собой обратный случай по отношению к cdf\n",
    "#Если cdf возвращает вероятности того, что меньше или равно некоторому значению, то ppf действует наоборот - мы можем с её помощью узнать значение,\n",
    "#для которого есть 40%-й шанс, что мы увидим ожидаемые величины в его пределах\n",
    "stats.uniform.ppf(q=0.4,\n",
    "                 loc=0,\n",
    "                 scale=10)"
   ]
  },
  {
   "cell_type": "code",
   "execution_count": null,
   "metadata": {},
   "outputs": [],
   "source": [
    "#Возвращает 4.0"
   ]
  },
  {
   "cell_type": "code",
   "execution_count": 25,
   "metadata": {},
   "outputs": [
    {
     "name": "stdout",
     "output_type": "stream",
     "text": [
      "Density at x-value: -1\n",
      "0.0\n",
      "Density at x-value: 2\n",
      "0.1\n",
      "Density at x-value: 5\n",
      "0.1\n",
      "Density at x-value: 8\n",
      "0.1\n",
      "Density at x-value: 11\n",
      "0.0\n"
     ]
    }
   ],
   "source": [
    "#pdf - это плотность распределения вероятностей (то есть, высота распределения). \n",
    "#При равномерном распределении мы получим одинаковые значения, т.к. верх функции у нас плоский, что видно на рисунке.\n",
    "#Для величины за пределами функции мы получим 0\n",
    "for x in range(-1,12,3):\n",
    "    print(\"Density at x-value:\", str(x))\n",
    "    print(stats.uniform.pdf(x, loc=0, scale=10))"
   ]
  },
  {
   "cell_type": "markdown",
   "metadata": {},
   "source": [
    "### Нормальное распределение"
   ]
  },
  {
   "cell_type": "code",
   "execution_count": 27,
   "metadata": {},
   "outputs": [
    {
     "name": "stdout",
     "output_type": "stream",
     "text": [
      "0.15865525393145707 0.15865525393145707 0.6826894921370859\n"
     ]
    }
   ],
   "source": [
    "prob_under_minus1 = stats.norm.cdf(x=-1,\n",
    "                                  loc=0,\n",
    "                                  scale=1)\n",
    "\n",
    "prob_over_1 = 1 - stats.norm.cdf(x=1,\n",
    "                                  loc=0,\n",
    "                                  scale=1)\n",
    "\n",
    "between_prob = 1- (prob_under_minus1 + prob_over_1)\n",
    "\n",
    "print(prob_under_minus1, prob_over_1, between_prob)"
   ]
  },
  {
   "cell_type": "code",
   "execution_count": 28,
   "metadata": {},
   "outputs": [
    {
     "name": "stdout",
     "output_type": "stream",
     "text": [
      "-1.9599639845400545\n",
      "1.959963984540054\n"
     ]
    }
   ],
   "source": [
    "print(stats.norm.ppf(q=0.025)) #Так мы можем найти пограничное значение для квантиля в 2,5%\n",
    "print(stats.norm.ppf(q=0.975)) #А так - для квантиля в 97,5%"
   ]
  },
  {
   "cell_type": "code",
   "execution_count": 29,
   "metadata": {},
   "outputs": [],
   "source": [
    "#значения близки к 2, то есть, большинство данных лежит в пределах 2 среднеквадратичных отклонений. Это - типичная картина для нормального распределения"
   ]
  },
  {
   "cell_type": "code",
   "execution_count": 30,
   "metadata": {},
   "outputs": [
    {
     "name": "stdout",
     "output_type": "stream",
     "text": [
      "0.0013498980316300933\n",
      "0.9986501019683699\n"
     ]
    }
   ],
   "source": [
    "print(stats.norm.cdf(x=-3)) #какое количество данных ниже 3 среднеквадратичных отклонений\n",
    "print(stats.norm.cdf(x=3)) #какое количество данных выше 3 среднеквадратичных отклонений"
   ]
  },
  {
   "cell_type": "code",
   "execution_count": 31,
   "metadata": {},
   "outputs": [],
   "source": [
    "# подтвердили, что данные укладываются в пределы 2 среднеквадратичных отклонений, что типично для нормального распределения"
   ]
  },
  {
   "cell_type": "markdown",
   "metadata": {},
   "source": [
    "### Биномиальное распределение"
   ]
  },
  {
   "cell_type": "code",
   "execution_count": 32,
   "metadata": {},
   "outputs": [
    {
     "name": "stdout",
     "output_type": "stream",
     "text": [
      "col_0   0    1    2     3     4     5     6     7    8   9   10\n",
      "row_0                                                          \n",
      "counts   8  115  473  1199  2024  2431  2052  1148  453  90   7\n"
     ]
    },
    {
     "data": {
      "text/plain": [
       "array([[<AxesSubplot:title={'center':'0'}>]], dtype=object)"
      ]
     },
     "execution_count": 32,
     "metadata": {},
     "output_type": "execute_result"
    },
    {
     "data": {
      "image/png": "[encoded data removed]",
      "text/plain": [
       "<Figure size 432x288 with 1 Axes>"
      ]
     },
     "metadata": {
      "needs_background": "light"
     },
     "output_type": "display_data"
    }
   ],
   "source": [
    "#В отличие от предыдущих примеров биномиальное распределение - это дискретная величина. Обычно она обозначает возможные исходы какого-то количества экспериментов или событий\n",
    "#Данное распределение говорит, насколько вероятно достичь определенное количество успехов при энном количестве попыток.\n",
    "#Пример - мы хотим бросить монетку 10 раз и сделать это 10000 раз\n",
    "fair_coin_flips = stats.binom.rvs(n=10, #число бросков за попытку\n",
    "                                 p=0.5, #вероятность успеха\n",
    "                                 size=10000) #кол-во попыток\n",
    "\n",
    "print(pd.crosstab(index=\"counts\", columns=fair_coin_flips))\n",
    "pd.DataFrame(fair_coin_flips).hist(range=(-0.5, 10.5), bins=11)"
   ]
  },
  {
   "cell_type": "code",
   "execution_count": null,
   "metadata": {},
   "outputs": [],
   "source": [
    "#то есть, скорее всего, желаемая сторона монетки выпадет от 4 до 6 раз"
   ]
  },
  {
   "cell_type": "code",
   "execution_count": 35,
   "metadata": {},
   "outputs": [
    {
     "name": "stdout",
     "output_type": "stream",
     "text": [
      "col_0   3   4    5    6     7     8     9     10\n",
      "row_0                                           \n",
      "counts   8  50  281  923  1962  3019  2663  1094\n"
     ]
    },
    {
     "data": {
      "text/plain": [
       "array([[<AxesSubplot:title={'center':'0'}>]], dtype=object)"
      ]
     },
     "execution_count": 35,
     "metadata": {},
     "output_type": "execute_result"
    },
    {
     "data": {
      "image/png": "[encoded data removed]",
      "text/plain": [
       "<Figure size 432x288 with 1 Axes>"
      ]
     },
     "metadata": {
      "needs_background": "light"
     },
     "output_type": "display_data"
    }
   ],
   "source": [
    "#А теперь поменяем вероятность успеха\n",
    "biased_coin_flips = stats.binom.rvs(n=10, #число бросков за попытку\n",
    "                                 p=0.8, #вероятность успеха\n",
    "                                 size=10000) #кол-во попыток\n",
    "\n",
    "print(pd.crosstab(index=\"counts\", columns=biased_coin_flips))\n",
    "pd.DataFrame(biased_coin_flips).hist(range=(-0.5, 10.5), bins=11)"
   ]
  },
  {
   "cell_type": "code",
   "execution_count": 38,
   "metadata": {},
   "outputs": [
    {
     "data": {
      "text/plain": [
       "0.032793497599999964"
      ]
     },
     "execution_count": 38,
     "metadata": {},
     "output_type": "execute_result"
    }
   ],
   "source": [
    "#Используем cdf для того, чтобы понять вероятность определенного количества успехов при заданном количестве попыток и вероятности успеха\n",
    "stats.binom.cdf(k=5, #Вероятность, что мы достигнем успеха 5 раз или менее\n",
    "                  n=10, #Сделав 10 попыток\n",
    "                  p=0.8) #При условии, что вероятность успеха каждой попытки - 80%"
   ]
  },
  {
   "cell_type": "code",
   "execution_count": null,
   "metadata": {},
   "outputs": [],
   "source": [
    "#Вероятность - 3%"
   ]
  },
  {
   "cell_type": "code",
   "execution_count": 39,
   "metadata": {},
   "outputs": [
    {
     "data": {
      "text/plain": [
       "0.37580963840000003"
      ]
     },
     "execution_count": 39,
     "metadata": {},
     "output_type": "execute_result"
    }
   ],
   "source": [
    "1 - stats.binom.cdf(k=8, #Так мы получим вероятность 9 успехов или более\n",
    "                  n=10, \n",
    "                  p=0.8) "
   ]
  },
  {
   "cell_type": "code",
   "execution_count": 40,
   "metadata": {},
   "outputs": [
    {
     "data": {
      "text/plain": [
       "0.24609375000000025"
      ]
     },
     "execution_count": 40,
     "metadata": {},
     "output_type": "execute_result"
    }
   ],
   "source": [
    "#Для дискретных величин, таких как при биномиальном распредении, мы используем не ppf, а pmf (probability mass function, функция распределения масс)\n",
    "stats.binom.pmf(k=5, #вероятность пяти успехов при 10 попытках с 50%-й вероятностью успеха\n",
    "               n=10,\n",
    "               p=0.5)"
   ]
  },
  {
   "cell_type": "code",
   "execution_count": 41,
   "metadata": {},
   "outputs": [
    {
     "data": {
      "text/plain": [
       "0.301989888"
      ]
     },
     "execution_count": 41,
     "metadata": {},
     "output_type": "execute_result"
    }
   ],
   "source": [
    "stats.binom.pmf(k=8, \n",
    "               n=10,\n",
    "               p=0.8)"
   ]
  },
  {
   "cell_type": "markdown",
   "metadata": {},
   "source": [
    "### Геометрическое и экспоненциальное распределение"
   ]
  },
  {
   "cell_type": "code",
   "execution_count": 43,
   "metadata": {},
   "outputs": [
    {
     "name": "stdout",
     "output_type": "stream",
     "text": [
      "col_0     1     2     3    4    5    6   7   8   9   10  11  12  13  14  15  \\\n",
      "row_0                                                                         \n",
      "counts  4946  2508  1281  635  304  141  90  44  28   6   7   5   1   2   1   \n",
      "\n",
      "col_0   18  \n",
      "row_0       \n",
      "counts   1  \n"
     ]
    },
    {
     "data": {
      "text/plain": [
       "array([[<AxesSubplot:title={'center':'0'}>]], dtype=object)"
      ]
     },
     "execution_count": 43,
     "metadata": {},
     "output_type": "execute_result"
    },
    {
     "data": {
      "image/png": "[encoded data removed]",
      "text/plain": [
       "<Figure size 432x288 with 1 Axes>"
      ]
     },
     "metadata": {
      "needs_background": "light"
     },
     "output_type": "display_data"
    }
   ],
   "source": [
    "#Такое распределение служит для измерения времени, за которое должно произойти событие.\n",
    "#Геометрическое распределение - дискретная величина, которая моделирует количество попыток, необходимых для достижения успеха при заданной вероятности успеха\n",
    "#Экспоненциальное распределение - это её аналог, моделирующий количество времени, которое уйдет до наступления события при заданной вероятности его наступления\n",
    "flips_till_heads = stats.geom.rvs(size=10000, #Генерируем данные\n",
    "                                 p=0.5) #Вероятность, что мы получим решку при броске монетки\n",
    "print(pd.crosstab(index=\"counts\", columns=flips_till_heads))\n",
    "pd.DataFrame(flips_till_heads).hist(range=(-0.5, max(flips_till_heads) + 0.5), bins=max(flips_till_heads)+1)"
   ]
  },
  {
   "cell_type": "code",
   "execution_count": 44,
   "metadata": {},
   "outputs": [
    {
     "data": {
      "text/plain": [
       "0.03125"
      ]
     },
     "execution_count": 44,
     "metadata": {},
     "output_type": "execute_result"
    }
   ],
   "source": [
    "#Т.е. часто, для того, чтобы получить решку, достаточно одной попытки, что логично\n",
    "first_five = stats.geom.cdf(k=5, #А так мы можем померять вероятность успеха при первых пяти попытках\n",
    "                           p=0.5)\n",
    "1-first_five #А так мы посчитаем вероятность того, что нам потребуется БОЛЕЕ 5 попыток, чтобы достичь успеха"
   ]
  },
  {
   "cell_type": "code",
   "execution_count": null,
   "metadata": {},
   "outputs": [],
   "source": [
    "#Получили всего 3%"
   ]
  },
  {
   "cell_type": "code",
   "execution_count": 45,
   "metadata": {},
   "outputs": [
    {
     "data": {
      "text/plain": [
       "0.25"
      ]
     },
     "execution_count": 45,
     "metadata": {},
     "output_type": "execute_result"
    }
   ],
   "source": [
    "#Мы можем применить pmf, например, чтобы понять, какова вероятность, что нам понадобится сделать точно 2 броска, чтобы получить решку\n",
    "stats.geom.pmf(k=2,\n",
    "              p=0.5)"
   ]
  },
  {
   "cell_type": "markdown",
   "metadata": {},
   "source": [
    "### Пуассоново распределение"
   ]
  },
  {
   "cell_type": "code",
   "execution_count": 48,
   "metadata": {},
   "outputs": [
    {
     "name": "stdout",
     "output_type": "stream",
     "text": [
      "col_0      0     1     2    3    4   5  6  7  9\n",
      "row_0                                          \n",
      "counts  3679  3630  1859  632  152  39  7  1  1\n"
     ]
    },
    {
     "data": {
      "text/plain": [
       "array([[<AxesSubplot:title={'center':'0'}>]], dtype=object)"
      ]
     },
     "execution_count": 48,
     "metadata": {},
     "output_type": "execute_result"
    },
    {
     "data": {
      "image/png": "[encoded data removed]",
      "text/plain": [
       "<Figure size 432x288 with 1 Axes>"
      ]
     },
     "metadata": {
      "needs_background": "light"
     },
     "output_type": "display_data"
    }
   ],
   "source": [
    "#вероятностное распределение дискретного типа, моделирует случайную величину, представляющую собой число событий, произошедших за фиксированное время, при условии, что данные события происходят с некоторой фиксированной средней интенсивностью и независимо друг от друга.\n",
    "import random\n",
    "random.seed(12)\n",
    "arrival_rate_1 = stats.poisson.rvs(size=10000, #Генерируем данные\n",
    "                                  mu=1) #Среднее время прибытия за 1 час\n",
    "print(pd.crosstab(index=\"counts\", columns=arrival_rate_1))\n",
    "pd.DataFrame(arrival_rate_1).hist(range=(-0.5, max(arrival_rate_1) + 0.5), bins=max(arrival_rate_1)+1)"
   ]
  },
  {
   "cell_type": "code",
   "execution_count": null,
   "metadata": {},
   "outputs": [],
   "source": [
    "#То есть, как правило, мы видим одно прибытие за час, но часто случается и два прибытия. 3 и более - уже реже\n",
    "#Но вполне может быть такое, что за час никто не прибудет - 0 прибытий."
   ]
  },
  {
   "cell_type": "code",
   "execution_count": 49,
   "metadata": {},
   "outputs": [
    {
     "name": "stdout",
     "output_type": "stream",
     "text": [
      "col_0   0   1   2   3    4    5    6    7     8     9   ...   15   16   17  \\\n",
      "row_0                                                   ...                  \n",
      "counts   1  11  21  84  169  368  628  903  1130  1244  ...  350  221  138   \n",
      "\n",
      "col_0   18  19  20  21  22  23  24  \n",
      "row_0                               \n",
      "counts  66  40  11  11   4   1   1  \n",
      "\n",
      "[1 rows x 25 columns]\n"
     ]
    },
    {
     "data": {
      "text/plain": [
       "array([[<AxesSubplot:title={'center':'0'}>]], dtype=object)"
      ]
     },
     "execution_count": 49,
     "metadata": {},
     "output_type": "execute_result"
    },
    {
     "data": {
      "image/png": "[encoded data removed]",
      "text/plain": [
       "<Figure size 432x288 with 1 Axes>"
      ]
     },
     "metadata": {
      "needs_background": "light"
     },
     "output_type": "display_data"
    }
   ],
   "source": [
    "random.seed(12)\n",
    "arrival_rate_10 = stats.poisson.rvs(size=10000, #Генерируем данные\n",
    "                                  mu=10) #А теперь поменяем на 10 прибытий в час\n",
    "print(pd.crosstab(index=\"counts\", columns=arrival_rate_10))\n",
    "pd.DataFrame(arrival_rate_10).hist(range=(-0.5, max(arrival_rate_10) + 0.5), bins=max(arrival_rate_10)+1)"
   ]
  },
  {
   "cell_type": "code",
   "execution_count": null,
   "metadata": {},
   "outputs": [],
   "source": [
    "#Теперь уже мы видим, что кейс, когда за час никто не прибудет, весьма маловероятен. Зато есть вероятность увидеть даже 20 прибытий за час."
   ]
  }
 ],
 "metadata": {
  "kernelspec": {
   "display_name": "Python383-Spark4Users",
   "language": "python",
   "name": "python383-spark-users"
  },
  "language_info": {
   "codemirror_mode": {
    "name": "ipython",
    "version": 3
   },
   "file_extension": ".py",
   "mimetype": "text/x-python",
   "name": "python",
   "nbconvert_exporter": "python",
   "pygments_lexer": "ipython3",
   "version": "3.8.3"
  }
 },
 "nbformat": 4,
 "nbformat_minor": 4
}
